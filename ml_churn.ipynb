{
 "cells": [
  {
   "cell_type": "markdown",
   "id": "bde9f2ba",
   "metadata": {
    "toc": true
   },
   "source": [
    "<h1>Table of Contents<span class=\"tocSkip\"></span></h1>\n",
    "<div class=\"toc\"><ul class=\"toc-item\"><li><span><a href=\"#Описание-проекта\" data-toc-modified-id=\"Описание-проекта-1\"><span class=\"toc-item-num\">1&nbsp;&nbsp;</span>Описание проекта</a></span></li><li><span><a href=\"#Ход-исследования\" data-toc-modified-id=\"Ход-исследования-2\"><span class=\"toc-item-num\">2&nbsp;&nbsp;</span>Ход исследования</a></span></li><li><span><a href=\"#Состав-данных\" data-toc-modified-id=\"Состав-данных-3\"><span class=\"toc-item-num\">3&nbsp;&nbsp;</span>Состав данных</a></span></li><li><span><a href=\"#Исследование-и-предобработка-данных\" data-toc-modified-id=\"Исследование-и-предобработка-данных-4\"><span class=\"toc-item-num\">4&nbsp;&nbsp;</span>Исследование и предобработка данных</a></span><ul class=\"toc-item\"><li><span><a href=\"#Вывод-1.\" data-toc-modified-id=\"Вывод-1.-4.1\"><span class=\"toc-item-num\">4.1&nbsp;&nbsp;</span>Вывод 1.</a></span></li></ul></li><li><span><a href=\"#Исследование-баланса-классов.\" data-toc-modified-id=\"Исследование-баланса-классов.-5\"><span class=\"toc-item-num\">5&nbsp;&nbsp;</span>Исследование баланса классов.</a></span><ul class=\"toc-item\"><li><span><a href=\"#Выводы.\" data-toc-modified-id=\"Выводы.-5.1\"><span class=\"toc-item-num\">5.1&nbsp;&nbsp;</span>Выводы.</a></span></li></ul></li><li><span><a href=\"#Обучение-несбалансированных-моделей\" data-toc-modified-id=\"Обучение-несбалансированных-моделей-6\"><span class=\"toc-item-num\">6&nbsp;&nbsp;</span>Обучение несбалансированных моделей</a></span><ul class=\"toc-item\"><li><span><a href=\"#Обучение-несбалансированной-модели-Дерева\" data-toc-modified-id=\"Обучение-несбалансированной-модели-Дерева-6.1\"><span class=\"toc-item-num\">6.1&nbsp;&nbsp;</span>Обучение несбалансированной модели Дерева</a></span></li><li><span><a href=\"#Обучение-несбалансированной-модели-Случайного-Леса\" data-toc-modified-id=\"Обучение-несбалансированной-модели-Случайного-Леса-6.2\"><span class=\"toc-item-num\">6.2&nbsp;&nbsp;</span>Обучение несбалансированной модели Случайного Леса</a></span></li><li><span><a href=\"#Обучение-несбалансированной-модели-Логистической-регресии\" data-toc-modified-id=\"Обучение-несбалансированной-модели-Логистической-регресии-6.3\"><span class=\"toc-item-num\">6.3&nbsp;&nbsp;</span>Обучение несбалансированной модели Логистической регресии</a></span></li><li><span><a href=\"#Общие-выводы.\" data-toc-modified-id=\"Общие-выводы.-6.4\"><span class=\"toc-item-num\">6.4&nbsp;&nbsp;</span>Общие выводы.</a></span></li></ul></li><li><span><a href=\"#Балансировка-классов-и-обучение-сбалансированной-модели\" data-toc-modified-id=\"Балансировка-классов-и-обучение-сбалансированной-модели-7\"><span class=\"toc-item-num\">7&nbsp;&nbsp;</span>Балансировка классов и обучение сбалансированной модели</a></span><ul class=\"toc-item\"><li><span><a href=\"#Обучение-сбалансированной-модели-Дерева-Решений\" data-toc-modified-id=\"Обучение-сбалансированной-модели-Дерева-Решений-7.1\"><span class=\"toc-item-num\">7.1&nbsp;&nbsp;</span>Обучение сбалансированной модели Дерева Решений</a></span></li><li><span><a href=\"#Обучение-сбалансированной-модели-Случайного-Леса\" data-toc-modified-id=\"Обучение-сбалансированной-модели-Случайного-Леса-7.2\"><span class=\"toc-item-num\">7.2&nbsp;&nbsp;</span>Обучение сбалансированной модели Случайного Леса</a></span></li><li><span><a href=\"#Обучение-сбалансированной-модели-Логистической-регресии\" data-toc-modified-id=\"Обучение-сбалансированной-модели-Логистической-регресии-7.3\"><span class=\"toc-item-num\">7.3&nbsp;&nbsp;</span>Обучение сбалансированной модели Логистической регресии</a></span></li><li><span><a href=\"#Проверка-наилучшего-варианта-на-тестовой-выборке\" data-toc-modified-id=\"Проверка-наилучшего-варианта-на-тестовой-выборке-7.4\"><span class=\"toc-item-num\">7.4&nbsp;&nbsp;</span>Проверка наилучшего варианта на тестовой выборке</a></span></li><li><span><a href=\"#Выводы-по-обучению-сбалансированной-модели\" data-toc-modified-id=\"Выводы-по-обучению-сбалансированной-модели-7.5\"><span class=\"toc-item-num\">7.5&nbsp;&nbsp;</span>Выводы по обучению сбалансированной модели</a></span></li></ul></li><li><span><a href=\"#Исследование-метрика-AUC-ROC\" data-toc-modified-id=\"Исследование-метрика-AUC-ROC-8\"><span class=\"toc-item-num\">8&nbsp;&nbsp;</span>Исследование метрика AUC-ROC</a></span><ul class=\"toc-item\"><li><span><a href=\"#Вывод.\" data-toc-modified-id=\"Вывод.-8.1\"><span class=\"toc-item-num\">8.1&nbsp;&nbsp;</span>Вывод.</a></span></li></ul></li><li><span><a href=\"#Итоги-проекта\" data-toc-modified-id=\"Итоги-проекта-9\"><span class=\"toc-item-num\">9&nbsp;&nbsp;</span>Итоги проекта</a></span></li></ul></div>"
   ]
  },
  {
   "cell_type": "markdown",
   "id": "7fef3bbb",
   "metadata": {},
   "source": [
    "# Проект \"Прогноз оттока клиентов.\""
   ]
  },
  {
   "cell_type": "markdown",
   "id": "3a6c85bb",
   "metadata": {},
   "source": [
    "## Описание проекта\n",
    "Из «Бета-Банка» стали каждый месяц уходить клиенты. Маркетологи посчитали, что сохранять текущих клиентов дешевле, чем привлекать новых. </br>\n",
    "Задача: </br>\n",
    " -  спрогнозировать, уйдёт клиент из банка в ближайшее время или нет. Вам предоставлены исторические данные о поведении клиентов и расторжении договоров с банком. </br>\n",
    " -  построить модель с предельно большим значением F1-меры, довести метрику до 0.59 и проверить на тестовой выборке.\n",
    " -  дополнительно измерять AUC-ROC, сравнивая её значение с F1-мерой."
   ]
  },
  {
   "cell_type": "markdown",
   "id": "08497e38",
   "metadata": {},
   "source": [
    "## Ход исследования"
   ]
  },
  {
   "cell_type": "markdown",
   "id": "25cc7ef3",
   "metadata": {},
   "source": [
    "1. Загрузить и подготовить данные. Пояснить порядок действий.\n",
    "2. Исследовать баланс классов, обучить модель без учёта дисбаланса. \n",
    "3. Улучшить качество модели, учитывая дисбаланс классов. Обучить разные модели и найти лучшую. \n",
    "4. Провести финальное тестирование."
   ]
  },
  {
   "cell_type": "markdown",
   "id": "a2a1755a",
   "metadata": {},
   "source": [
    "## Состав данных"
   ]
  },
  {
   "cell_type": "markdown",
   "id": "c646b250",
   "metadata": {},
   "source": [
    "<i><b>Признаки </i></br>\n",
    "`RowNumber` — индекс строки в данных</br>\n",
    "`CustomerId` — уникальный идентификатор клиента</br>\n",
    "`Surname` — фамилия</br>\n",
    "`CreditScore` — кредитный рейтинг</br>\n",
    "`Geography` — страна проживания</br>\n",
    "`Gender` — пол</br>\n",
    "`Age` — возраст</br>\n",
    "`Tenure` — сколько лет человек является клиентом банка</br>\n",
    "`Balance` — баланс на счёте</br>\n",
    "`NumOfProducts` — количество продуктов банка, используемых клиентом</br>\n",
    "`HasCrCard` — наличие кредитной карты</br>\n",
    "`IsActiveMember` — активность клиента</br>\n",
    "`EstimatedSalary` — предполагаемая зарплата</br>\n",
    "\n",
    "<i><b>Целевой признак</i></br>\n",
    "`Exited` — факт ухода клиента</br>"
   ]
  },
  {
   "cell_type": "markdown",
   "id": "fb5ec716",
   "metadata": {},
   "source": [
    "## Исследование и предобработка данных"
   ]
  },
  {
   "cell_type": "code",
   "execution_count": 1,
   "id": "13b42877",
   "metadata": {},
   "outputs": [],
   "source": [
    "import pandas as pd\n",
    "import matplotlib.pyplot as plt\n",
    "import numpy as np\n",
    "\n",
    "from sklearn.tree import DecisionTreeClassifier\n",
    "from sklearn.ensemble import RandomForestClassifier\n",
    "from sklearn.linear_model import LogisticRegression\n",
    "from sklearn.model_selection import train_test_split\n",
    "\n",
    "from sklearn.preprocessing import StandardScaler,MinMaxScaler, OrdinalEncoder\n",
    "\n",
    "from sklearn.metrics import (confusion_matrix, precision_recall_curve, auc,\n",
    "                             roc_curve, recall_score, classification_report, f1_score,\n",
    "                             precision_recall_fscore_support, roc_auc_score)\n",
    "\n",
    "from sklearn.utils import shuffle"
   ]
  },
  {
   "cell_type": "code",
   "execution_count": 2,
   "id": "1954b678",
   "metadata": {},
   "outputs": [],
   "source": [
    "try:\n",
    "    df = pd.read_csv('C:/Users/Admin/Desktop/Учеба/datasets/Churn.csv', sep=',') #С локалки\n",
    "except:\n",
    "    df = pd.read_csv('/datasets/Churn.csv', sep=',') # с сервера    "
   ]
  },
  {
   "cell_type": "code",
   "execution_count": 3,
   "id": "d870e08d",
   "metadata": {},
   "outputs": [
    {
     "name": "stdout",
     "output_type": "stream",
     "text": [
      "<class 'pandas.core.frame.DataFrame'>\n",
      "RangeIndex: 10000 entries, 0 to 9999\n",
      "Data columns (total 14 columns):\n",
      " #   Column           Non-Null Count  Dtype  \n",
      "---  ------           --------------  -----  \n",
      " 0   RowNumber        10000 non-null  int64  \n",
      " 1   CustomerId       10000 non-null  int64  \n",
      " 2   Surname          10000 non-null  object \n",
      " 3   CreditScore      10000 non-null  int64  \n",
      " 4   Geography        10000 non-null  object \n",
      " 5   Gender           10000 non-null  object \n",
      " 6   Age              10000 non-null  int64  \n",
      " 7   Tenure           9091 non-null   float64\n",
      " 8   Balance          10000 non-null  float64\n",
      " 9   NumOfProducts    10000 non-null  int64  \n",
      " 10  HasCrCard        10000 non-null  int64  \n",
      " 11  IsActiveMember   10000 non-null  int64  \n",
      " 12  EstimatedSalary  10000 non-null  float64\n",
      " 13  Exited           10000 non-null  int64  \n",
      "dtypes: float64(3), int64(8), object(3)\n",
      "memory usage: 1.1+ MB\n"
     ]
    }
   ],
   "source": [
    "df.info()"
   ]
  },
  {
   "cell_type": "code",
   "execution_count": 4,
   "id": "8e97087e",
   "metadata": {
    "scrolled": true
   },
   "outputs": [
    {
     "data": {
      "text/html": [
       "<div>\n",
       "<style scoped>\n",
       "    .dataframe tbody tr th:only-of-type {\n",
       "        vertical-align: middle;\n",
       "    }\n",
       "\n",
       "    .dataframe tbody tr th {\n",
       "        vertical-align: top;\n",
       "    }\n",
       "\n",
       "    .dataframe thead th {\n",
       "        text-align: right;\n",
       "    }\n",
       "</style>\n",
       "<table border=\"1\" class=\"dataframe\">\n",
       "  <thead>\n",
       "    <tr style=\"text-align: right;\">\n",
       "      <th></th>\n",
       "      <th>RowNumber</th>\n",
       "      <th>CustomerId</th>\n",
       "      <th>CreditScore</th>\n",
       "      <th>Age</th>\n",
       "      <th>Tenure</th>\n",
       "      <th>Balance</th>\n",
       "      <th>NumOfProducts</th>\n",
       "      <th>HasCrCard</th>\n",
       "      <th>IsActiveMember</th>\n",
       "      <th>EstimatedSalary</th>\n",
       "      <th>Exited</th>\n",
       "    </tr>\n",
       "  </thead>\n",
       "  <tbody>\n",
       "    <tr>\n",
       "      <th>count</th>\n",
       "      <td>10000.00000</td>\n",
       "      <td>1.000000e+04</td>\n",
       "      <td>10000.000000</td>\n",
       "      <td>10000.000000</td>\n",
       "      <td>9091.000000</td>\n",
       "      <td>10000.000000</td>\n",
       "      <td>10000.000000</td>\n",
       "      <td>10000.00000</td>\n",
       "      <td>10000.000000</td>\n",
       "      <td>10000.000000</td>\n",
       "      <td>10000.000000</td>\n",
       "    </tr>\n",
       "    <tr>\n",
       "      <th>mean</th>\n",
       "      <td>5000.50000</td>\n",
       "      <td>1.569094e+07</td>\n",
       "      <td>650.528800</td>\n",
       "      <td>38.921800</td>\n",
       "      <td>4.997690</td>\n",
       "      <td>76485.889288</td>\n",
       "      <td>1.530200</td>\n",
       "      <td>0.70550</td>\n",
       "      <td>0.515100</td>\n",
       "      <td>100090.239881</td>\n",
       "      <td>0.203700</td>\n",
       "    </tr>\n",
       "    <tr>\n",
       "      <th>std</th>\n",
       "      <td>2886.89568</td>\n",
       "      <td>7.193619e+04</td>\n",
       "      <td>96.653299</td>\n",
       "      <td>10.487806</td>\n",
       "      <td>2.894723</td>\n",
       "      <td>62397.405202</td>\n",
       "      <td>0.581654</td>\n",
       "      <td>0.45584</td>\n",
       "      <td>0.499797</td>\n",
       "      <td>57510.492818</td>\n",
       "      <td>0.402769</td>\n",
       "    </tr>\n",
       "    <tr>\n",
       "      <th>min</th>\n",
       "      <td>1.00000</td>\n",
       "      <td>1.556570e+07</td>\n",
       "      <td>350.000000</td>\n",
       "      <td>18.000000</td>\n",
       "      <td>0.000000</td>\n",
       "      <td>0.000000</td>\n",
       "      <td>1.000000</td>\n",
       "      <td>0.00000</td>\n",
       "      <td>0.000000</td>\n",
       "      <td>11.580000</td>\n",
       "      <td>0.000000</td>\n",
       "    </tr>\n",
       "    <tr>\n",
       "      <th>25%</th>\n",
       "      <td>2500.75000</td>\n",
       "      <td>1.562853e+07</td>\n",
       "      <td>584.000000</td>\n",
       "      <td>32.000000</td>\n",
       "      <td>2.000000</td>\n",
       "      <td>0.000000</td>\n",
       "      <td>1.000000</td>\n",
       "      <td>0.00000</td>\n",
       "      <td>0.000000</td>\n",
       "      <td>51002.110000</td>\n",
       "      <td>0.000000</td>\n",
       "    </tr>\n",
       "    <tr>\n",
       "      <th>50%</th>\n",
       "      <td>5000.50000</td>\n",
       "      <td>1.569074e+07</td>\n",
       "      <td>652.000000</td>\n",
       "      <td>37.000000</td>\n",
       "      <td>5.000000</td>\n",
       "      <td>97198.540000</td>\n",
       "      <td>1.000000</td>\n",
       "      <td>1.00000</td>\n",
       "      <td>1.000000</td>\n",
       "      <td>100193.915000</td>\n",
       "      <td>0.000000</td>\n",
       "    </tr>\n",
       "    <tr>\n",
       "      <th>75%</th>\n",
       "      <td>7500.25000</td>\n",
       "      <td>1.575323e+07</td>\n",
       "      <td>718.000000</td>\n",
       "      <td>44.000000</td>\n",
       "      <td>7.000000</td>\n",
       "      <td>127644.240000</td>\n",
       "      <td>2.000000</td>\n",
       "      <td>1.00000</td>\n",
       "      <td>1.000000</td>\n",
       "      <td>149388.247500</td>\n",
       "      <td>0.000000</td>\n",
       "    </tr>\n",
       "    <tr>\n",
       "      <th>max</th>\n",
       "      <td>10000.00000</td>\n",
       "      <td>1.581569e+07</td>\n",
       "      <td>850.000000</td>\n",
       "      <td>92.000000</td>\n",
       "      <td>10.000000</td>\n",
       "      <td>250898.090000</td>\n",
       "      <td>4.000000</td>\n",
       "      <td>1.00000</td>\n",
       "      <td>1.000000</td>\n",
       "      <td>199992.480000</td>\n",
       "      <td>1.000000</td>\n",
       "    </tr>\n",
       "  </tbody>\n",
       "</table>\n",
       "</div>"
      ],
      "text/plain": [
       "         RowNumber    CustomerId   CreditScore           Age       Tenure  \\\n",
       "count  10000.00000  1.000000e+04  10000.000000  10000.000000  9091.000000   \n",
       "mean    5000.50000  1.569094e+07    650.528800     38.921800     4.997690   \n",
       "std     2886.89568  7.193619e+04     96.653299     10.487806     2.894723   \n",
       "min        1.00000  1.556570e+07    350.000000     18.000000     0.000000   \n",
       "25%     2500.75000  1.562853e+07    584.000000     32.000000     2.000000   \n",
       "50%     5000.50000  1.569074e+07    652.000000     37.000000     5.000000   \n",
       "75%     7500.25000  1.575323e+07    718.000000     44.000000     7.000000   \n",
       "max    10000.00000  1.581569e+07    850.000000     92.000000    10.000000   \n",
       "\n",
       "             Balance  NumOfProducts    HasCrCard  IsActiveMember  \\\n",
       "count   10000.000000   10000.000000  10000.00000    10000.000000   \n",
       "mean    76485.889288       1.530200      0.70550        0.515100   \n",
       "std     62397.405202       0.581654      0.45584        0.499797   \n",
       "min         0.000000       1.000000      0.00000        0.000000   \n",
       "25%         0.000000       1.000000      0.00000        0.000000   \n",
       "50%     97198.540000       1.000000      1.00000        1.000000   \n",
       "75%    127644.240000       2.000000      1.00000        1.000000   \n",
       "max    250898.090000       4.000000      1.00000        1.000000   \n",
       "\n",
       "       EstimatedSalary        Exited  \n",
       "count     10000.000000  10000.000000  \n",
       "mean     100090.239881      0.203700  \n",
       "std       57510.492818      0.402769  \n",
       "min          11.580000      0.000000  \n",
       "25%       51002.110000      0.000000  \n",
       "50%      100193.915000      0.000000  \n",
       "75%      149388.247500      0.000000  \n",
       "max      199992.480000      1.000000  "
      ]
     },
     "execution_count": 4,
     "metadata": {},
     "output_type": "execute_result"
    }
   ],
   "source": [
    "df.describe()"
   ]
  },
  {
   "cell_type": "code",
   "execution_count": 5,
   "id": "3422148b",
   "metadata": {},
   "outputs": [],
   "source": [
    "del_columns=['RowNumber','EstimatedSalary','CustomerId','Surname']\n",
    "df=df.drop(del_columns,axis=1)"
   ]
  },
  {
   "cell_type": "code",
   "execution_count": 6,
   "id": "12770091",
   "metadata": {},
   "outputs": [
    {
     "data": {
      "text/plain": [
       "1"
      ]
     },
     "execution_count": 6,
     "metadata": {},
     "output_type": "execute_result"
    }
   ],
   "source": [
    "df.duplicated().sum()"
   ]
  },
  {
   "cell_type": "code",
   "execution_count": 7,
   "id": "aaadadae",
   "metadata": {},
   "outputs": [
    {
     "data": {
      "text/plain": [
       "0"
      ]
     },
     "execution_count": 7,
     "metadata": {},
     "output_type": "execute_result"
    }
   ],
   "source": [
    "df.drop_duplicates(inplace=True)\n",
    "df.duplicated().sum()"
   ]
  },
  {
   "cell_type": "code",
   "execution_count": 8,
   "id": "921cc2a2",
   "metadata": {},
   "outputs": [],
   "source": [
    "df['Tenure']=df['Tenure'].fillna(0).astype('int64')"
   ]
  },
  {
   "cell_type": "code",
   "execution_count": 9,
   "id": "e1b76f28",
   "metadata": {},
   "outputs": [
    {
     "data": {
      "text/html": [
       "<div>\n",
       "<style scoped>\n",
       "    .dataframe tbody tr th:only-of-type {\n",
       "        vertical-align: middle;\n",
       "    }\n",
       "\n",
       "    .dataframe tbody tr th {\n",
       "        vertical-align: top;\n",
       "    }\n",
       "\n",
       "    .dataframe thead th {\n",
       "        text-align: right;\n",
       "    }\n",
       "</style>\n",
       "<table border=\"1\" class=\"dataframe\">\n",
       "  <thead>\n",
       "    <tr style=\"text-align: right;\">\n",
       "      <th></th>\n",
       "      <th>CreditScore</th>\n",
       "      <th>Age</th>\n",
       "      <th>Tenure</th>\n",
       "      <th>Balance</th>\n",
       "      <th>NumOfProducts</th>\n",
       "      <th>HasCrCard</th>\n",
       "      <th>IsActiveMember</th>\n",
       "      <th>Exited</th>\n",
       "    </tr>\n",
       "  </thead>\n",
       "  <tbody>\n",
       "    <tr>\n",
       "      <th>CreditScore</th>\n",
       "      <td>1.000000</td>\n",
       "      <td>-0.003973</td>\n",
       "      <td>0.003100</td>\n",
       "      <td>0.006235</td>\n",
       "      <td>0.012260</td>\n",
       "      <td>-0.005502</td>\n",
       "      <td>0.025624</td>\n",
       "      <td>-0.027108</td>\n",
       "    </tr>\n",
       "    <tr>\n",
       "      <th>Age</th>\n",
       "      <td>-0.003973</td>\n",
       "      <td>1.000000</td>\n",
       "      <td>-0.007355</td>\n",
       "      <td>0.028276</td>\n",
       "      <td>-0.030659</td>\n",
       "      <td>-0.011766</td>\n",
       "      <td>0.085448</td>\n",
       "      <td>0.285314</td>\n",
       "    </tr>\n",
       "    <tr>\n",
       "      <th>Tenure</th>\n",
       "      <td>0.003100</td>\n",
       "      <td>-0.007355</td>\n",
       "      <td>1.000000</td>\n",
       "      <td>-0.005764</td>\n",
       "      <td>0.010069</td>\n",
       "      <td>0.021462</td>\n",
       "      <td>-0.025809</td>\n",
       "      <td>-0.013296</td>\n",
       "    </tr>\n",
       "    <tr>\n",
       "      <th>Balance</th>\n",
       "      <td>0.006235</td>\n",
       "      <td>0.028276</td>\n",
       "      <td>-0.005764</td>\n",
       "      <td>1.000000</td>\n",
       "      <td>-0.304113</td>\n",
       "      <td>-0.015051</td>\n",
       "      <td>-0.010212</td>\n",
       "      <td>0.118481</td>\n",
       "    </tr>\n",
       "    <tr>\n",
       "      <th>NumOfProducts</th>\n",
       "      <td>0.012260</td>\n",
       "      <td>-0.030659</td>\n",
       "      <td>0.010069</td>\n",
       "      <td>-0.304113</td>\n",
       "      <td>1.000000</td>\n",
       "      <td>0.003309</td>\n",
       "      <td>0.009696</td>\n",
       "      <td>-0.047781</td>\n",
       "    </tr>\n",
       "    <tr>\n",
       "      <th>HasCrCard</th>\n",
       "      <td>-0.005502</td>\n",
       "      <td>-0.011766</td>\n",
       "      <td>0.021462</td>\n",
       "      <td>-0.015051</td>\n",
       "      <td>0.003309</td>\n",
       "      <td>1.000000</td>\n",
       "      <td>-0.012027</td>\n",
       "      <td>-0.007217</td>\n",
       "    </tr>\n",
       "    <tr>\n",
       "      <th>IsActiveMember</th>\n",
       "      <td>0.025624</td>\n",
       "      <td>0.085448</td>\n",
       "      <td>-0.025809</td>\n",
       "      <td>-0.010212</td>\n",
       "      <td>0.009696</td>\n",
       "      <td>-0.012027</td>\n",
       "      <td>1.000000</td>\n",
       "      <td>-0.156191</td>\n",
       "    </tr>\n",
       "    <tr>\n",
       "      <th>Exited</th>\n",
       "      <td>-0.027108</td>\n",
       "      <td>0.285314</td>\n",
       "      <td>-0.013296</td>\n",
       "      <td>0.118481</td>\n",
       "      <td>-0.047781</td>\n",
       "      <td>-0.007217</td>\n",
       "      <td>-0.156191</td>\n",
       "      <td>1.000000</td>\n",
       "    </tr>\n",
       "  </tbody>\n",
       "</table>\n",
       "</div>"
      ],
      "text/plain": [
       "                CreditScore       Age    Tenure   Balance  NumOfProducts  \\\n",
       "CreditScore        1.000000 -0.003973  0.003100  0.006235       0.012260   \n",
       "Age               -0.003973  1.000000 -0.007355  0.028276      -0.030659   \n",
       "Tenure             0.003100 -0.007355  1.000000 -0.005764       0.010069   \n",
       "Balance            0.006235  0.028276 -0.005764  1.000000      -0.304113   \n",
       "NumOfProducts      0.012260 -0.030659  0.010069 -0.304113       1.000000   \n",
       "HasCrCard         -0.005502 -0.011766  0.021462 -0.015051       0.003309   \n",
       "IsActiveMember     0.025624  0.085448 -0.025809 -0.010212       0.009696   \n",
       "Exited            -0.027108  0.285314 -0.013296  0.118481      -0.047781   \n",
       "\n",
       "                HasCrCard  IsActiveMember    Exited  \n",
       "CreditScore     -0.005502        0.025624 -0.027108  \n",
       "Age             -0.011766        0.085448  0.285314  \n",
       "Tenure           0.021462       -0.025809 -0.013296  \n",
       "Balance         -0.015051       -0.010212  0.118481  \n",
       "NumOfProducts    0.003309        0.009696 -0.047781  \n",
       "HasCrCard        1.000000       -0.012027 -0.007217  \n",
       "IsActiveMember  -0.012027        1.000000 -0.156191  \n",
       "Exited          -0.007217       -0.156191  1.000000  "
      ]
     },
     "execution_count": 9,
     "metadata": {},
     "output_type": "execute_result"
    }
   ],
   "source": [
    "df.corr()"
   ]
  },
  {
   "cell_type": "code",
   "execution_count": 10,
   "id": "3f294918",
   "metadata": {
    "scrolled": true
   },
   "outputs": [
    {
     "data": {
      "image/png": "[encoded data removed]",
      "text/plain": [
       "<Figure size 1500x600 with 1 Axes>"
      ]
     },
     "metadata": {},
     "output_type": "display_data"
    }
   ],
   "source": [
    "t=df.pivot_table(index = 'Tenure', columns = 'Exited', values ='Age', aggfunc=['count']).plot(kind='bar',stacked=True, grid=True,figsize=(15,6),title='Остался/ушел')\n",
    "plt.legend([\"Остался\", \"Ушел\"])\n",
    "plt.show()\n"
   ]
  },
  {
   "cell_type": "code",
   "execution_count": 11,
   "id": "dc41fec3",
   "metadata": {},
   "outputs": [
    {
     "data": {
      "image/png": "[encoded data removed]",
      "text/plain": [
       "<Figure size 1500x600 with 1 Axes>"
      ]
     },
     "metadata": {},
     "output_type": "display_data"
    }
   ],
   "source": [
    "t=df.pivot_table(index = 'Gender', columns = 'Exited', values ='Age', aggfunc=['count']).plot(kind='bar',stacked=True, grid=True,figsize=(15,6),title='Остался/ушел')\n",
    "plt.legend([\"Остался\", \"Ушел\"])\n",
    "plt.show()"
   ]
  },
  {
   "cell_type": "code",
   "execution_count": 12,
   "id": "e52f66c0",
   "metadata": {},
   "outputs": [
    {
     "data": {
      "image/png": "[encoded data removed]",
      "text/plain": [
       "<Figure size 1500x600 with 1 Axes>"
      ]
     },
     "metadata": {},
     "output_type": "display_data"
    }
   ],
   "source": [
    "t=df.pivot_table(index = 'HasCrCard', columns = 'Exited', values ='Age', aggfunc=['count']).plot(kind='bar',stacked=True, grid=True,figsize=(15,6),title='Остался/ушел')\n",
    "plt.legend([\"Остался\", \"Ушел\"])\n",
    "plt.show()"
   ]
  },
  {
   "cell_type": "code",
   "execution_count": 13,
   "id": "86bb7b3c",
   "metadata": {},
   "outputs": [
    {
     "data": {
      "image/png": "[encoded data removed]",
      "text/plain": [
       "<Figure size 1500x600 with 1 Axes>"
      ]
     },
     "metadata": {},
     "output_type": "display_data"
    }
   ],
   "source": [
    "t=df.pivot_table(index = 'Geography', columns = 'Exited', values ='Age', aggfunc=['count']).plot(kind='bar',stacked=True, grid=True,figsize=(15,6),title='Остался/ушел')\n",
    "plt.legend([\"Остался\", \"Ушел\"])\n",
    "plt.show()"
   ]
  },
  {
   "cell_type": "code",
   "execution_count": 14,
   "id": "9a2effe0",
   "metadata": {},
   "outputs": [
    {
     "data": {
      "image/png": "[encoded data removed]",
      "text/plain": [
       "<Figure size 1500x600 with 1 Axes>"
      ]
     },
     "metadata": {},
     "output_type": "display_data"
    }
   ],
   "source": [
    "t=df.pivot_table(index = 'NumOfProducts', columns = 'Exited', values ='Age', aggfunc=['count']).plot(kind='bar',stacked=True, grid=True,figsize=(15,6),title='Остался/ушел')\n",
    "plt.legend([\"Остался\", \"Ушел\"])\n",
    "plt.show()"
   ]
  },
  {
   "cell_type": "code",
   "execution_count": null,
   "id": "1ccd0f13",
   "metadata": {},
   "outputs": [],
   "source": [
    "t=df.pivot_table(index = 'Age', columns = 'Exited', values ='Age', aggfunc=['count']).plot(kind='bar',stacked=True, grid=True,figsize=(15,6),title='Остался/ушел')\n",
    "plt.legend([\"Остался\", \"Ушел\"])\n",
    "plt.show()"
   ]
  },
  {
   "cell_type": "markdown",
   "id": "5d01b17c",
   "metadata": {},
   "source": [
    "### Вывод 1. \n",
    "Познакомились с данными - массив из 10 000 строк, с категориальными и численными переменными.</br>\n",
    "Пропуски в столбце `Tenure` — сколько лет человек является клиентом банка. Заполнили столбец нулями. </br>\n",
    "Убрали из массива столбцы, которые не являются значимыми для поставленной задачи - `RowNumber','EstimatedSalary','CustomerId','Surname`.</br>\n",
    "После этого сделали проверку на дубликаты и удалили один лишний. </br>\n",
    "Затем рассмотрели данные с фокусом на уход -как влияет пол, количество продуктов, страна, наличие кредитки, срок банковского обслуживания. </br>\n",
    "Если обобщить, то верхнеуровнево получаем, что\n",
    " - чаще всего уходят женщины, даже в соотношении, что клиентов мужчин больше\n",
    " - с точки зрения длительности клиентского обслуживания - в срок до года чаще всего отказываются от услуг банка\n",
    " - уходят те, кто 3 и более продуктов банка и чаще всего имеющие кредитку.\n",
    " \n",
    " Если скаламбурить, то от услуг банка отказываются женщины, которые недавно стали клиентами банка, имеют кредитку и проживают в Германии. "
   ]
  },
  {
   "cell_type": "markdown",
   "id": "4dcf40e8",
   "metadata": {},
   "source": [
    "## Исследование баланса классов."
   ]
  },
  {
   "cell_type": "markdown",
   "id": "8bab437c",
   "metadata": {},
   "source": [
    "Перед тем как исследовать что-то, необходимо преобразовать катеогриальные признаки в численные. Для этого используем прямое кодирование (OHE)."
   ]
  },
  {
   "cell_type": "code",
   "execution_count": 15,
   "id": "08adbee8",
   "metadata": {},
   "outputs": [],
   "source": [
    "df_ohe=pd.get_dummies(df,drop_first=True) #закодировали"
   ]
  },
  {
   "cell_type": "code",
   "execution_count": 16,
   "id": "36fd0716",
   "metadata": {},
   "outputs": [],
   "source": [
    "features = df_ohe.drop(['Exited'], axis=1) # признаки\n",
    "target = df_ohe['Exited'] # Целевой признак"
   ]
  },
  {
   "cell_type": "code",
   "execution_count": 17,
   "id": "11f394c3",
   "metadata": {},
   "outputs": [],
   "source": [
    "features_train, features_valid, target_train, target_valid = train_test_split(features, \n",
    "                                                                            target, \n",
    "                                                                            test_size=0.25, \n",
    "                                                                            random_state=12345\n",
    "                                                                           )  \n",
    "# Поделили на тестовую и обучающую выборки"
   ]
  },
  {
   "cell_type": "code",
   "execution_count": 18,
   "id": "6ce31ce5",
   "metadata": {},
   "outputs": [
    {
     "data": {
      "text/plain": [
       "(7499, 10)"
      ]
     },
     "metadata": {},
     "output_type": "display_data"
    },
    {
     "data": {
      "text/plain": [
       "(7499,)"
      ]
     },
     "metadata": {},
     "output_type": "display_data"
    }
   ],
   "source": [
    "display(features_train.shape)\n",
    "display(target_train.shape)\n",
    "#Посмотрели на размер"
   ]
  },
  {
   "cell_type": "code",
   "execution_count": 19,
   "id": "0bdfc71f",
   "metadata": {
    "scrolled": true
   },
   "outputs": [
    {
     "data": {
      "text/html": [
       "<div>\n",
       "<style scoped>\n",
       "    .dataframe tbody tr th:only-of-type {\n",
       "        vertical-align: middle;\n",
       "    }\n",
       "\n",
       "    .dataframe tbody tr th {\n",
       "        vertical-align: top;\n",
       "    }\n",
       "\n",
       "    .dataframe thead th {\n",
       "        text-align: right;\n",
       "    }\n",
       "</style>\n",
       "<table border=\"1\" class=\"dataframe\">\n",
       "  <thead>\n",
       "    <tr style=\"text-align: right;\">\n",
       "      <th></th>\n",
       "      <th>CreditScore</th>\n",
       "      <th>Age</th>\n",
       "      <th>Tenure</th>\n",
       "      <th>Balance</th>\n",
       "      <th>NumOfProducts</th>\n",
       "      <th>HasCrCard</th>\n",
       "      <th>IsActiveMember</th>\n",
       "      <th>Exited</th>\n",
       "      <th>Geography_Germany</th>\n",
       "      <th>Geography_Spain</th>\n",
       "      <th>Gender_Male</th>\n",
       "    </tr>\n",
       "  </thead>\n",
       "  <tbody>\n",
       "    <tr>\n",
       "      <th>count</th>\n",
       "      <td>9999.000000</td>\n",
       "      <td>9999.000000</td>\n",
       "      <td>9999.000000</td>\n",
       "      <td>9999.000000</td>\n",
       "      <td>9999.000000</td>\n",
       "      <td>9999.000000</td>\n",
       "      <td>9999.000000</td>\n",
       "      <td>9999.000000</td>\n",
       "      <td>9999.000000</td>\n",
       "      <td>9999.000000</td>\n",
       "      <td>9999.000000</td>\n",
       "    </tr>\n",
       "    <tr>\n",
       "      <th>mean</th>\n",
       "      <td>650.531453</td>\n",
       "      <td>38.922092</td>\n",
       "      <td>4.543254</td>\n",
       "      <td>76493.538642</td>\n",
       "      <td>1.530153</td>\n",
       "      <td>0.705571</td>\n",
       "      <td>0.515152</td>\n",
       "      <td>0.203720</td>\n",
       "      <td>0.250925</td>\n",
       "      <td>0.247725</td>\n",
       "      <td>0.545655</td>\n",
       "    </tr>\n",
       "    <tr>\n",
       "      <th>std</th>\n",
       "      <td>96.657768</td>\n",
       "      <td>10.488290</td>\n",
       "      <td>3.111694</td>\n",
       "      <td>62395.836502</td>\n",
       "      <td>0.581664</td>\n",
       "      <td>0.455809</td>\n",
       "      <td>0.499795</td>\n",
       "      <td>0.402784</td>\n",
       "      <td>0.433567</td>\n",
       "      <td>0.431713</td>\n",
       "      <td>0.497936</td>\n",
       "    </tr>\n",
       "    <tr>\n",
       "      <th>min</th>\n",
       "      <td>350.000000</td>\n",
       "      <td>18.000000</td>\n",
       "      <td>0.000000</td>\n",
       "      <td>0.000000</td>\n",
       "      <td>1.000000</td>\n",
       "      <td>0.000000</td>\n",
       "      <td>0.000000</td>\n",
       "      <td>0.000000</td>\n",
       "      <td>0.000000</td>\n",
       "      <td>0.000000</td>\n",
       "      <td>0.000000</td>\n",
       "    </tr>\n",
       "    <tr>\n",
       "      <th>25%</th>\n",
       "      <td>584.000000</td>\n",
       "      <td>32.000000</td>\n",
       "      <td>2.000000</td>\n",
       "      <td>0.000000</td>\n",
       "      <td>1.000000</td>\n",
       "      <td>0.000000</td>\n",
       "      <td>0.000000</td>\n",
       "      <td>0.000000</td>\n",
       "      <td>0.000000</td>\n",
       "      <td>0.000000</td>\n",
       "      <td>0.000000</td>\n",
       "    </tr>\n",
       "    <tr>\n",
       "      <th>50%</th>\n",
       "      <td>652.000000</td>\n",
       "      <td>37.000000</td>\n",
       "      <td>4.000000</td>\n",
       "      <td>97208.460000</td>\n",
       "      <td>1.000000</td>\n",
       "      <td>1.000000</td>\n",
       "      <td>1.000000</td>\n",
       "      <td>0.000000</td>\n",
       "      <td>0.000000</td>\n",
       "      <td>0.000000</td>\n",
       "      <td>1.000000</td>\n",
       "    </tr>\n",
       "    <tr>\n",
       "      <th>75%</th>\n",
       "      <td>718.000000</td>\n",
       "      <td>44.000000</td>\n",
       "      <td>7.000000</td>\n",
       "      <td>127646.040000</td>\n",
       "      <td>2.000000</td>\n",
       "      <td>1.000000</td>\n",
       "      <td>1.000000</td>\n",
       "      <td>0.000000</td>\n",
       "      <td>1.000000</td>\n",
       "      <td>0.000000</td>\n",
       "      <td>1.000000</td>\n",
       "    </tr>\n",
       "    <tr>\n",
       "      <th>max</th>\n",
       "      <td>850.000000</td>\n",
       "      <td>92.000000</td>\n",
       "      <td>10.000000</td>\n",
       "      <td>250898.090000</td>\n",
       "      <td>4.000000</td>\n",
       "      <td>1.000000</td>\n",
       "      <td>1.000000</td>\n",
       "      <td>1.000000</td>\n",
       "      <td>1.000000</td>\n",
       "      <td>1.000000</td>\n",
       "      <td>1.000000</td>\n",
       "    </tr>\n",
       "  </tbody>\n",
       "</table>\n",
       "</div>"
      ],
      "text/plain": [
       "       CreditScore          Age       Tenure        Balance  NumOfProducts  \\\n",
       "count  9999.000000  9999.000000  9999.000000    9999.000000    9999.000000   \n",
       "mean    650.531453    38.922092     4.543254   76493.538642       1.530153   \n",
       "std      96.657768    10.488290     3.111694   62395.836502       0.581664   \n",
       "min     350.000000    18.000000     0.000000       0.000000       1.000000   \n",
       "25%     584.000000    32.000000     2.000000       0.000000       1.000000   \n",
       "50%     652.000000    37.000000     4.000000   97208.460000       1.000000   \n",
       "75%     718.000000    44.000000     7.000000  127646.040000       2.000000   \n",
       "max     850.000000    92.000000    10.000000  250898.090000       4.000000   \n",
       "\n",
       "         HasCrCard  IsActiveMember       Exited  Geography_Germany  \\\n",
       "count  9999.000000     9999.000000  9999.000000        9999.000000   \n",
       "mean      0.705571        0.515152     0.203720           0.250925   \n",
       "std       0.455809        0.499795     0.402784           0.433567   \n",
       "min       0.000000        0.000000     0.000000           0.000000   \n",
       "25%       0.000000        0.000000     0.000000           0.000000   \n",
       "50%       1.000000        1.000000     0.000000           0.000000   \n",
       "75%       1.000000        1.000000     0.000000           1.000000   \n",
       "max       1.000000        1.000000     1.000000           1.000000   \n",
       "\n",
       "       Geography_Spain  Gender_Male  \n",
       "count      9999.000000  9999.000000  \n",
       "mean          0.247725     0.545655  \n",
       "std           0.431713     0.497936  \n",
       "min           0.000000     0.000000  \n",
       "25%           0.000000     0.000000  \n",
       "50%           0.000000     1.000000  \n",
       "75%           0.000000     1.000000  \n",
       "max           1.000000     1.000000  "
      ]
     },
     "execution_count": 19,
     "metadata": {},
     "output_type": "execute_result"
    }
   ],
   "source": [
    "df_ohe.describe() #Проверяем, надо ли стандартизировать выборку"
   ]
  },
  {
   "cell_type": "markdown",
   "id": "2f183008",
   "metadata": {},
   "source": [
    "Надо. Стандартизируем тестовую и обучающую выборку, т.к есть разбег по значениям. И для логистической регресии это может оказать критичное влияние."
   ]
  },
  {
   "cell_type": "code",
   "execution_count": 20,
   "id": "22ddb931",
   "metadata": {},
   "outputs": [],
   "source": [
    "numeric=['CreditScore','Age','Tenure','Balance','NumOfProducts','HasCrCard','IsActiveMember']\n",
    "scaler=StandardScaler()\n",
    "scaler.fit(features_train[numeric])\n",
    "features_train[numeric]=scaler.transform(features_train[numeric])\n",
    "features_valid[numeric]=scaler.transform(features_valid[numeric])"
   ]
  },
  {
   "cell_type": "markdown",
   "id": "8641bb52",
   "metadata": {},
   "source": [
    "### Выводы.\n",
    "В данной части проекта мы разделили датафрейм на тестовую и обучающую выборки, а также стандартизировали, поскольку разброс значений для логистической регресии может оказать критичное влияние.  Предварительно мы провели прямое кодирование для преобразования категориальных переменнных в численные. "
   ]
  },
  {
   "cell_type": "markdown",
   "id": "35f3233e",
   "metadata": {},
   "source": [
    "##  Обучение несбалансированных моделей"
   ]
  },
  {
   "cell_type": "markdown",
   "id": "dc4d9a5e",
   "metadata": {},
   "source": [
    "### Обучение несбалансированной модели Дерева"
   ]
  },
  {
   "cell_type": "code",
   "execution_count": 21,
   "id": "b83fb409",
   "metadata": {},
   "outputs": [
    {
     "name": "stdout",
     "output_type": "stream",
     "text": [
      "max_depth: 9 F1: 0.5311398354876615\n"
     ]
    }
   ],
   "source": [
    "best_model = None\n",
    "best_depth = 0\n",
    "best_f1 = 0\n",
    "for depth in range(1,10, 1):\n",
    "    model_tree = DecisionTreeClassifier(random_state=12345, max_depth = depth).fit(features_train, target_train)\n",
    "    predictions_valid = model_tree.predict(features_valid)\n",
    "    result = f1_score(target_valid,predictions_valid)\n",
    "print('max_depth:',depth,'F1:',f1_score(target_valid,predictions_valid))"
   ]
  },
  {
   "cell_type": "markdown",
   "id": "fa5b9df4",
   "metadata": {},
   "source": [
    "Наивысшее среднее гармоническое(f-мера) на выборке из 10 моделей достигается на 9 и резульат составляет 0,531"
   ]
  },
  {
   "cell_type": "markdown",
   "id": "b7a45a96",
   "metadata": {},
   "source": [
    "### Обучение несбалансированной модели Случайного Леса"
   ]
  },
  {
   "cell_type": "code",
   "execution_count": 22,
   "id": "6bd95e63",
   "metadata": {},
   "outputs": [
    {
     "name": "stdout",
     "output_type": "stream",
     "text": [
      "Наилучшая глубина 17\n",
      "Наилучшее количество деревьев 45\n",
      "Наилучшая f1 0.5904761904761905\n"
     ]
    }
   ],
   "source": [
    "best_model_rfc = None\n",
    "best_est_rfc = 0\n",
    "best_depth_rfc = 0\n",
    "best_f1_rfc = 0\n",
    "for est in (range(1, 50)):\n",
    "    for depth in range(1, 20):\n",
    "        model_rfc = RandomForestClassifier(random_state=12345, n_estimators=est, max_depth = depth).fit(features_train, target_train)\n",
    "        predictions_valid_rfc = model_rfc.predict(features_valid)\n",
    "        f1_rfc = f1_score(target_valid,predictions_valid_rfc)\n",
    "        if best_f1_rfc < f1_rfc:\n",
    "            best_model_rfc = model_rfc\n",
    "            best_est_rfc = est\n",
    "            best_depth_rfc = depth\n",
    "            best_f1_rfc = f1_rfc\n",
    "print(\"Наилучшая глубина\", best_depth_rfc)\n",
    "print(\"Наилучшее количество деревьев\", best_est_rfc)\n",
    "print('Наилучшая f1', best_f1_rfc) "
   ]
  },
  {
   "cell_type": "markdown",
   "id": "2ba745d8",
   "metadata": {},
   "source": [
    "Лучший результат f-меры=0,590 на несбалансированной модели \"Случайного леса\" может быть достигнут при глубине в 17 и количестве деревьев равном 45 при выборке из 50. "
   ]
  },
  {
   "cell_type": "markdown",
   "id": "6da68b44",
   "metadata": {},
   "source": [
    "### Обучение несбалансированной модели Логистической регресии"
   ]
  },
  {
   "cell_type": "code",
   "execution_count": 23,
   "id": "94487868",
   "metadata": {},
   "outputs": [
    {
     "name": "stdout",
     "output_type": "stream",
     "text": [
      "Наилучшая точность 0.3281907433380084\n"
     ]
    }
   ],
   "source": [
    "best_model_lr2=0\n",
    "best_result_lr2=0\n",
    "for c_value in [0.0001, 0.001, 0.01, 0.1, 1, 10]:\n",
    "    model_lr2 = LogisticRegression(random_state=12345, solver='liblinear', max_iter=1000,C=c_value).fit(features_train, target_train)\n",
    "    predictions_valid_lr = model_lr2.predict(features_valid)\n",
    "    f1_ = f1_score(target_valid,predictions_valid_lr)\n",
    "    if best_result_lr2 < f1_:\n",
    "            best_model_lr2 = model_lr2\n",
    "            best_result_lr2 = f1_\n",
    "print('Наилучшая точность', best_result_lr2) "
   ]
  },
  {
   "cell_type": "markdown",
   "id": "2894a07a",
   "metadata": {},
   "source": [
    "Наилучший результат f-меры в модели несбалансированной логистической регресии составляет 0,328 при 1000 итераций."
   ]
  },
  {
   "cell_type": "markdown",
   "id": "2bbf9a79",
   "metadata": {},
   "source": [
    "### Общие выводы.\n"
   ]
  },
  {
   "cell_type": "markdown",
   "id": "e8a126d6",
   "metadata": {},
   "source": [
    "При проведении обучения несбалансированных моделей получили следующие результаты:лучшая f-мера у модели случайного леса при глубине в 17 и количества деревьев 45 на выборке из 50 деревьев. Худшая - у логистической регресии. \n"
   ]
  },
  {
   "cell_type": "code",
   "execution_count": 24,
   "id": "0cee5f79",
   "metadata": {},
   "outputs": [
    {
     "data": {
      "text/html": [
       "<div>\n",
       "<style scoped>\n",
       "    .dataframe tbody tr th:only-of-type {\n",
       "        vertical-align: middle;\n",
       "    }\n",
       "\n",
       "    .dataframe tbody tr th {\n",
       "        vertical-align: top;\n",
       "    }\n",
       "\n",
       "    .dataframe thead th {\n",
       "        text-align: right;\n",
       "    }\n",
       "</style>\n",
       "<table border=\"1\" class=\"dataframe\">\n",
       "  <thead>\n",
       "    <tr style=\"text-align: right;\">\n",
       "      <th></th>\n",
       "      <th>Дерево Решения</th>\n",
       "      <th>Случайный лес</th>\n",
       "      <th>Логистическая регрессия</th>\n",
       "    </tr>\n",
       "  </thead>\n",
       "  <tbody>\n",
       "    <tr>\n",
       "      <th>Итог без учета дисбаланса</th>\n",
       "      <td>0.531</td>\n",
       "      <td>0.59</td>\n",
       "      <td>0.328</td>\n",
       "    </tr>\n",
       "  </tbody>\n",
       "</table>\n",
       "</div>"
      ],
      "text/plain": [
       "                           Дерево Решения  Случайный лес  \\\n",
       "Итог без учета дисбаланса           0.531           0.59   \n",
       "\n",
       "                           Логистическая регрессия  \n",
       "Итог без учета дисбаланса                    0.328  "
      ]
     },
     "execution_count": 24,
     "metadata": {},
     "output_type": "execute_result"
    }
   ],
   "source": [
    "rezult1={'Дерево Решения':np.array([0.531]),'Случайный лес':np.array([0.590]),'Логистическая регрессия':np.array([0.328])}\n",
    "rezult_df=pd.DataFrame(rezult1,index=['Итог без учета дисбаланса'])\n",
    "rezult_df"
   ]
  },
  {
   "cell_type": "markdown",
   "id": "4c2d45d9",
   "metadata": {},
   "source": [
    "## Балансировка классов и обучение сбалансированной модели"
   ]
  },
  {
   "cell_type": "markdown",
   "id": "34adfcb5",
   "metadata": {},
   "source": [
    "Для балансировки классов проведем увеличение выборки"
   ]
  },
  {
   "cell_type": "code",
   "execution_count": 25,
   "id": "d3638e96",
   "metadata": {},
   "outputs": [],
   "source": [
    "def upsample (features, target, repeat):\n",
    "    #Разделяем выборку по значениям целевой функции\n",
    "    features_zeros = features[target==0]\n",
    "    features_ones = features [target==1]\n",
    "    target_zeros = target[target==0]\n",
    "    target_ones = target[target==1]\n",
    "    #Увеличиваем и соединяем обратно\n",
    "    features_upsamled=pd.concat([features_zeros]+[features_ones]*repeat)\n",
    "    target_upsamled=pd.concat([target_zeros]+[target_ones]*repeat)\n",
    "     # Перемешиваем\n",
    "    features_upsamled,target_upsamled=shuffle(features_upsamled,target_upsamled, random_state = 12345)\n",
    "    return features_upsamled,target_upsamled\n",
    "features_balance,target_balance=upsample(features_train,target_train,10)    "
   ]
  },
  {
   "cell_type": "markdown",
   "id": "3fd869e1",
   "metadata": {},
   "source": [
    "Проведем обучение увеличеннной и сбалансированной модели."
   ]
  },
  {
   "cell_type": "markdown",
   "id": "7b46ab36",
   "metadata": {},
   "source": [
    "### Обучение сбалансированной модели Дерева Решений"
   ]
  },
  {
   "cell_type": "code",
   "execution_count": 26,
   "id": "a18912af",
   "metadata": {},
   "outputs": [
    {
     "name": "stdout",
     "output_type": "stream",
     "text": [
      "max_depth: 9 F1: 0.48332358104154477\n",
      "Wall time: 501 ms\n"
     ]
    }
   ],
   "source": [
    "%%time\n",
    "# Циклом ищем лучший гиперпораметр max_depth\n",
    "best_model = None\n",
    "best_depth = 0\n",
    "best_f1 = 0\n",
    "for depth in range(1,10, 1):\n",
    "    model_tree = DecisionTreeClassifier(random_state=12345, max_depth = depth).fit(features_balance, target_balance)\n",
    "    predictions_valid = model_tree.predict(features_valid)\n",
    "    result = f1_score(target_valid,predictions_valid)\n",
    "print('max_depth:',depth,'F1:',f1_score(target_valid,predictions_valid))"
   ]
  },
  {
   "cell_type": "code",
   "execution_count": null,
   "id": "e3440e06",
   "metadata": {},
   "outputs": [],
   "source": []
  },
  {
   "cell_type": "markdown",
   "id": "cc7ee3a5",
   "metadata": {},
   "source": [
    "### Обучение сбалансированной модели Случайного Леса"
   ]
  },
  {
   "cell_type": "code",
   "execution_count": 27,
   "id": "c93b6dca",
   "metadata": {},
   "outputs": [
    {
     "name": "stdout",
     "output_type": "stream",
     "text": [
      "Наилучшая глубина 7\n",
      "Наилучшее количество деревьев 9\n",
      "Наилучшая f1 0.6132231404958678\n",
      "Wall time: 10min 22s\n"
     ]
    }
   ],
   "source": [
    "%%time\n",
    "best_model_rfc = None\n",
    "best_est_rfc = 0\n",
    "best_depth_rfc = 0\n",
    "best_f1_rfc = 0\n",
    "for est in (range(1, 50)):\n",
    "    for depth in range(1, 20):\n",
    "        model_rfc = RandomForestClassifier(class_weight='balanced',random_state=12345, n_estimators=est, max_depth = depth).fit(features_balance, target_balance)\n",
    "        predictions_valid_rfc = model_rfc.predict(features_valid)\n",
    "        f1_rfc = f1_score(target_valid,predictions_valid_rfc)\n",
    "        if best_f1_rfc < f1_rfc:\n",
    "            best_model_rfc = model_rfc\n",
    "            best_est_rfc = est\n",
    "            best_depth_rfc = depth\n",
    "            best_f1_rfc = f1_rfc\n",
    "print(\"Наилучшая глубина\", best_depth_rfc)\n",
    "print(\"Наилучшее количество деревьев\", best_est_rfc)\n",
    "print('Наилучшая f1', best_f1_rfc) "
   ]
  },
  {
   "cell_type": "markdown",
   "id": "b22fc781",
   "metadata": {},
   "source": [
    "### Обучение сбалансированной модели Логистической регресии"
   ]
  },
  {
   "cell_type": "code",
   "execution_count": 28,
   "id": "844ce702",
   "metadata": {},
   "outputs": [
    {
     "name": "stdout",
     "output_type": "stream",
     "text": [
      "Наилучшая точность 0.41220698805838124\n",
      "Wall time: 585 ms\n"
     ]
    }
   ],
   "source": [
    "%%time\n",
    "best_model_lr2=0\n",
    "best_result_lr2=0\n",
    "for c_value in [0.0001, 0.001, 0.01, 0.1, 1, 10]:\n",
    "    model_lr2 = LogisticRegression(random_state=12345, solver='liblinear', max_iter=1000,C=c_value).fit(features_balance, target_balance)\n",
    "    predictions_valid_lr = model_lr2.predict(features_valid)\n",
    "    f1_ = f1_score(target_valid,predictions_valid_lr)\n",
    "    if best_result_lr2 < f1_:\n",
    "            best_model_lr2 = model_lr2\n",
    "            best_result_lr2 = f1_\n",
    "print('Наилучшая точность', best_result_lr2) "
   ]
  },
  {
   "cell_type": "markdown",
   "id": "ca2ff648",
   "metadata": {},
   "source": [
    " ### Проверка наилучшего варианта на тестовой выборке"
   ]
  },
  {
   "cell_type": "markdown",
   "id": "a6998e13",
   "metadata": {},
   "source": [
    "Проверим эффективную модель на тестовой выборке"
   ]
  },
  {
   "cell_type": "code",
   "execution_count": 30,
   "id": "c2606af1",
   "metadata": {},
   "outputs": [
    {
     "name": "stdout",
     "output_type": "stream",
     "text": [
      "Результат: 0.9980276134122288\n"
     ]
    }
   ],
   "source": [
    "model_rfc = RandomForestClassifier(random_state=12345, n_estimators=45, max_depth =17).fit(features_valid, target_valid)\n",
    "predictions_valid_rfc = model_rfc.predict(features_valid)\n",
    "f1_ = f1_score(target_valid,predictions_valid_rfc)\n",
    "print('Результат:',f1_) "
   ]
  },
  {
   "cell_type": "markdown",
   "id": "8b61bf53",
   "metadata": {},
   "source": [
    "### Выводы по обучению сбалансированной модели"
   ]
  },
  {
   "cell_type": "code",
   "execution_count": 31,
   "id": "f40a3aad",
   "metadata": {},
   "outputs": [
    {
     "data": {
      "text/html": [
       "<div>\n",
       "<style scoped>\n",
       "    .dataframe tbody tr th:only-of-type {\n",
       "        vertical-align: middle;\n",
       "    }\n",
       "\n",
       "    .dataframe tbody tr th {\n",
       "        vertical-align: top;\n",
       "    }\n",
       "\n",
       "    .dataframe thead th {\n",
       "        text-align: right;\n",
       "    }\n",
       "</style>\n",
       "<table border=\"1\" class=\"dataframe\">\n",
       "  <thead>\n",
       "    <tr style=\"text-align: right;\">\n",
       "      <th></th>\n",
       "      <th>Дерево Решения</th>\n",
       "      <th>Случайный лес</th>\n",
       "      <th>Логистическая регрессия</th>\n",
       "    </tr>\n",
       "  </thead>\n",
       "  <tbody>\n",
       "    <tr>\n",
       "      <th>Итог с учетом балансировки</th>\n",
       "      <td>0.483</td>\n",
       "      <td>0.613</td>\n",
       "      <td>0.412</td>\n",
       "    </tr>\n",
       "  </tbody>\n",
       "</table>\n",
       "</div>"
      ],
      "text/plain": [
       "                            Дерево Решения  Случайный лес  \\\n",
       "Итог с учетом балансировки           0.483          0.613   \n",
       "\n",
       "                            Логистическая регрессия  \n",
       "Итог с учетом балансировки                    0.412  "
      ]
     },
     "execution_count": 31,
     "metadata": {},
     "output_type": "execute_result"
    }
   ],
   "source": [
    "rezult1={'Дерево Решения':np.array([0.483]),'Случайный лес':np.array([0.613]),'Логистическая регрессия':np.array([0.412])}\n",
    "rezult_df=pd.DataFrame(rezult1,index=['Итог с учетом балансировки'])\n",
    "rezult_df"
   ]
  },
  {
   "cell_type": "markdown",
   "id": "4dc13ad3",
   "metadata": {},
   "source": [
    "И вновь себя зарекомендовала модель случайного леса с f-мерой в 0,613 на обучающей выборке при 9 деревьях и глубине 7.</br>\n",
    "А на тестовой выборке результат f-меры стал равен 0,998 при параметрам в 45 деревьев и глубине 17."
   ]
  },
  {
   "cell_type": "markdown",
   "id": "efb60030",
   "metadata": {},
   "source": [
    "## Исследование метрика AUC-ROC"
   ]
  },
  {
   "cell_type": "code",
   "execution_count": 32,
   "id": "f7b0f369",
   "metadata": {},
   "outputs": [
    {
     "data": {
      "text/plain": [
       "0.8021539899756507"
      ]
     },
     "execution_count": 32,
     "metadata": {},
     "output_type": "execute_result"
    }
   ],
   "source": [
    "probabilities_tree=model_tree.predict_proba(features_valid)\n",
    "probabilities_one_valid_tree=probabilities_tree[:,1]\n",
    "fpr_tree,tpr_tree,thresholds=roc_curve(target_valid,probabilities_one_valid_tree)\n",
    "auc_roc_tree=roc_auc_score(target_valid,probabilities_one_valid_tree)\n",
    "auc_roc_tree"
   ]
  },
  {
   "cell_type": "code",
   "execution_count": 33,
   "id": "f782e93c",
   "metadata": {},
   "outputs": [
    {
     "data": {
      "text/plain": [
       "0.9999990117952124"
      ]
     },
     "execution_count": 33,
     "metadata": {},
     "output_type": "execute_result"
    }
   ],
   "source": [
    "probabilities_forest=model_rfc.predict_proba(features_valid)\n",
    "probabilities_one_valid_forest=probabilities_forest[:,1]\n",
    "fpr_forest,tpr_forest,thresholds=roc_curve(target_valid,probabilities_one_valid_forest)\n",
    "auc_roc_forest=roc_auc_score(target_valid,probabilities_one_valid_forest)\n",
    "auc_roc_forest"
   ]
  },
  {
   "cell_type": "code",
   "execution_count": 35,
   "id": "77fabd48",
   "metadata": {},
   "outputs": [
    {
     "data": {
      "text/plain": [
       "0.7626173987287734"
      ]
     },
     "execution_count": 35,
     "metadata": {},
     "output_type": "execute_result"
    }
   ],
   "source": [
    "probabilities_reg=model_lr2.predict_proba(features_valid)\n",
    "probabilities_one_valid_reg=probabilities_reg[:,1]\n",
    "fpr_log,tpr_log,thresholds=roc_curve(target_valid,probabilities_one_valid_reg)\n",
    "auc_roc_lin=roc_auc_score(target_valid,probabilities_one_valid_reg)\n",
    "auc_roc_lin"
   ]
  },
  {
   "cell_type": "code",
   "execution_count": 45,
   "id": "860d202a",
   "metadata": {},
   "outputs": [
    {
     "data": {
      "text/plain": [
       "<Figure size 640x480 with 0 Axes>"
      ]
     },
     "metadata": {},
     "output_type": "display_data"
    },
    {
     "data": {
      "image/png": "[encoded data removed]",
      "text/plain": [
       "<Figure size 1000x700 with 1 Axes>"
      ]
     },
     "metadata": {},
     "output_type": "display_data"
    }
   ],
   "source": [
    "plt.figure()\n",
    "plt.figure(figsize=(10,7))\n",
    "plt.plot([0, 1], [0, 1], linestyle='--')\n",
    "plt.xlim([0.0, 1.0])\n",
    "plt.ylim([0.0, 1.0])\n",
    "plt.plot(fpr_log,tpr_log, linestyle=':')\n",
    "plt.plot(fpr_tree,tpr_tree)\n",
    "plt.plot(fpr_forest,tpr_forest)\n",
    "plt.xlabel('False Positive Rate')\n",
    "plt.ylabel('True Positive Rate')\n",
    "plt.title('ROC-кривая')\n",
    "plt.legend(('Случайная модель','Логистическая регрессия','Дерево решения','Случайный лес'),\n",
    "           loc= 'upper left')\n",
    "plt.show()"
   ]
  },
  {
   "cell_type": "markdown",
   "id": "90bf844c",
   "metadata": {},
   "source": [
    "### Вывод. \n",
    "AUC-ROC - это значение площади под кривой - на сколько наша модель отличается от случайной.\n",
    "Лучшее значение метрики auc roc=0.999 у модели Случайный лес"
   ]
  },
  {
   "cell_type": "markdown",
   "id": "ecdbd337",
   "metadata": {},
   "source": [
    "##  Итоги проекта\n",
    "Мы рассмотрели предоставленные данные без балансировки, а затем после стандартизации и прямого кодирования при помощи трех моделей - Дерево Решений, Случайный лес и Логистическая Регрессия. Протестировали на валидной выборке и выбрали наибольшую f-меру = 0,998 при параметрах в 45 деревьев и глубине 17 - это была модель Случайного леса.Хуже всего себя показала модель Логистическая регрессия. Что подвердила и метрика AUC-ROC."
   ]
  }
 ],
 "metadata": {
  "kernelspec": {
   "display_name": "Python 3 (ipykernel)",
   "language": "python",
   "name": "python3"
  },
  "language_info": {
   "codemirror_mode": {
    "name": "ipython",
    "version": 3
   },
   "file_extension": ".py",
   "mimetype": "text/x-python",
   "name": "python",
   "nbconvert_exporter": "python",
   "pygments_lexer": "ipython3",
   "version": "3.9.13"
  },
  "toc": {
   "base_numbering": 1,
   "nav_menu": {},
   "number_sections": true,
   "sideBar": true,
   "skip_h1_title": true,
   "title_cell": "Table of Contents",
   "title_sidebar": "Contents",
   "toc_cell": true,
   "toc_position": {},
   "toc_section_display": true,
   "toc_window_display": false
  }
 },
 "nbformat": 4,
 "nbformat_minor": 5
}
